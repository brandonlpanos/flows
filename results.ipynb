{
 "cells": [
  {
   "cell_type": "code",
   "execution_count": 27,
   "id": "3118a5c4",
   "metadata": {},
   "outputs": [],
   "source": [
    "import torch \n",
    "import pickle\n",
    "import numpy as np\n",
    "import matplotlib.pyplot as plt\n",
    "from torch.utils.data import Dataset, DataLoader\n",
    "from torchdiffeq import odeint_adjoint as odeint"
   ]
  },
  {
   "cell_type": "code",
   "execution_count": 8,
   "id": "850b1927",
   "metadata": {},
   "outputs": [],
   "source": [
    "# Set the device to GPU since flows are computationally expensive\n",
    "device = torch.device('cuda' if torch.cuda.is_available() else 'cpu')\n",
    "\n",
    "# Define the ODE function for the time dynamic, i.e., this defines the vector field / differential equation\n",
    "class ODEFunc(torch.nn.Module):\n",
    "    def __init__(self):\n",
    "        super(ODEFunc, self).__init__()\n",
    "        self.net = torch.nn.Sequential(\n",
    "            torch.nn.Linear(240, 10),\n",
    "            torch.nn.ReLU(),\n",
    "            torch.nn.Linear(10, 20),\n",
    "            torch.nn.ReLU(),\n",
    "            torch.nn.Linear(20, 240),\n",
    "        )\n",
    "    def forward(self, t, y):\n",
    "        return self.net(y)\n",
    "\n",
    "# Always between 0 and 1, finer means more accurate but longer training\n",
    "t = torch.linspace(0.0, 1.0, 100).to(device)\n",
    "\n",
    "# Generate new samples: samples are newly generated spectra from trained model\n",
    "# dz_evolution is the evolution of an initial noise vector into the generated spectra\n",
    "def generate_samples(model, t, n_samples):\n",
    "    with torch.no_grad():\n",
    "        base_vecs = torch.normal(mean=0, std=0.1, size=(n_samples, 240))\n",
    "        dz_evolution = odeint(model, base_vecs, t)\n",
    "        samples = dz_evolution[-1]\n",
    "    return dz_evolution, samples"
   ]
  },
  {
   "cell_type": "code",
   "execution_count": 7,
   "id": "84c91094",
   "metadata": {},
   "outputs": [],
   "source": [
    "# Load the saved model onto the CPU\n",
    "ode_func = ODEFunc()\n",
    "ode_func.load_state_dict(torch.load(\"best_model.pth\", map_location=torch.device('cpu')))\n",
    "ode_func.eval()"
   ]
  },
  {
   "cell_type": "code",
   "execution_count": 30,
   "id": "0abbe81e",
   "metadata": {},
   "outputs": [
    {
     "data": {
      "text/plain": [
       "(100, 240)"
      ]
     },
     "execution_count": 30,
     "metadata": {},
     "output_type": "execute_result"
    }
   ],
   "source": [
    "# plot evolution of single noise vector into spectrum\n",
    "dz, _ = generate_samples(ode_func, t, 1)\n",
    "dz = np.squeeze(dz.detach().numpy())\n",
    "dz.shape"
   ]
  },
  {
   "cell_type": "code",
   "execution_count": 32,
   "id": "295c2e61",
   "metadata": {},
   "outputs": [],
   "source": [
    "%matplotlib notebook\n",
    "import numpy as np\n",
    "import matplotlib.pyplot as plt\n",
    "import matplotlib.animation as animation\n",
    "\n",
    "# define a function to animate the frames\n",
    "def animate(i):\n",
    "    plt.cla()   # clear the previous plot\n",
    "    plt.plot(dz[i], c='k', linestyle='--')\n",
    "    plt.title('Frame {}'.format(i))\n",
    "    plt.xlabel('Index')\n",
    "    plt.ylabel('Value')\n",
    "    plt.ylim(0,1)\n",
    "\n",
    "# create the animation\n",
    "fig = plt.figure(figsize=(10, 4))\n",
    "ani = animation.FuncAnimation(fig, animate, frames=100, interval=1)\n",
    "\n",
    "# display the animation in the notebook\n",
    "plt.show()"
   ]
  }
 ],
 "metadata": {
  "kernelspec": {
   "display_name": "env_flow",
   "language": "python",
   "name": "python3"
  },
  "language_info": {
   "codemirror_mode": {
    "name": "ipython",
    "version": 3
   },
   "file_extension": ".py",
   "mimetype": "text/x-python",
   "name": "python",
   "nbconvert_exporter": "python",
   "pygments_lexer": "ipython3",
   "version": "3.11.2"
  }
 },
 "nbformat": 4,
 "nbformat_minor": 5
}
