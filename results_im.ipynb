{
 "cells": [
  {
   "cell_type": "code",
   "execution_count": 172,
   "metadata": {},
   "outputs": [],
   "source": [
    "import torch \n",
    "import pickle\n",
    "import numpy as np\n",
    "from torch.utils.data import Dataset, DataLoader\n",
    "from torchdiffeq import odeint_adjoint as odeint\n",
    "from torch import nn"
   ]
  },
  {
   "cell_type": "code",
   "execution_count": 173,
   "metadata": {},
   "outputs": [
    {
     "name": "stdout",
     "output_type": "stream",
     "text": [
      "cpu\n"
     ]
    }
   ],
   "source": [
    "# Set the device to GPU since flows are computationally expensive\n",
    "device = torch.device('cuda' if torch.cuda.is_available() else 'cpu')\n",
    "print(device)"
   ]
  },
  {
   "cell_type": "code",
   "execution_count": 174,
   "metadata": {},
   "outputs": [],
   "source": [
    "# # Define the ODE function for the time dynamic, i.e., this defines the vector field / differential equation\n",
    "class ODEFunc(torch.nn.Module):\n",
    "    def __init__(self):\n",
    "        super(ODEFunc, self).__init__()\n",
    "        self.net = torch.nn.Sequential(\n",
    "            torch.nn.Linear(2, 50),\n",
    "            torch.nn.Tanh(),\n",
    "            torch.nn.Linear(50, 2),\n",
    "        )\n",
    "    def forward(self, t, y):\n",
    "        return self.net(y)"
   ]
  },
  {
   "cell_type": "code",
   "execution_count": 175,
   "metadata": {},
   "outputs": [],
   "source": [
    "# Load the saved model onto the CPU\n",
    "ode_func = ODEFunc()\n",
    "ode_func.load_state_dict(torch.load(\"best_model_im.pth\", map_location=torch.device('cpu')))\n",
    "ode_func.eval();"
   ]
  },
  {
   "cell_type": "code",
   "execution_count": 176,
   "metadata": {},
   "outputs": [],
   "source": [
    "# base distribution \n",
    "def base_func(batch_size, device):\n",
    "    samples = torch.rand(batch_size, 2, device=device) * 4 - 2 # sample from [-2, 2] x [-2, 2]\n",
    "    return samples"
   ]
  },
  {
   "cell_type": "code",
   "execution_count": 177,
   "metadata": {},
   "outputs": [],
   "source": [
    "# Generate new samples: samples are newly generated spectra from trained model\n",
    "# dz_evolution is the evolution of an initial noise vector into the generated spectra\n",
    "def generate_samples(model, t, n_samples):\n",
    "    with torch.no_grad():\n",
    "        base_vecs = base_func(n_samples, device)\n",
    "        dz_evolution = odeint(model, base_vecs, t)\n",
    "        samples = dz_evolution[-1]\n",
    "    return dz_evolution, samples"
   ]
  },
  {
   "cell_type": "code",
   "execution_count": 178,
   "metadata": {},
   "outputs": [],
   "source": [
    "# Define the time grid for solving the initial value ODE, \n",
    "# Always between 0 and 1, finer means more accurate but longer training\n",
    "t = torch.linspace(0.0, 1.0, 100).to(device)"
   ]
  },
  {
   "cell_type": "code",
   "execution_count": 179,
   "metadata": {},
   "outputs": [
    {
     "data": {
      "text/plain": [
       "(100, 10000, 2)"
      ]
     },
     "execution_count": 179,
     "metadata": {},
     "output_type": "execute_result"
    }
   ],
   "source": [
    "# plot evolution of single noise vector into spectrum\n",
    "dz_evolution, _ = generate_samples(ode_func, t, 10000)\n",
    "dz_evolution = np.squeeze(dz_evolution.detach().numpy())\n",
    "dz_evolution.shape"
   ]
  },
  {
   "cell_type": "code",
   "execution_count": 181,
   "metadata": {},
   "outputs": [],
   "source": [
    "# %matplotlib notebook\n",
    "# import numpy as np\n",
    "# import matplotlib.pyplot as plt\n",
    "# import matplotlib.animation as animation\n",
    "\n",
    "# # define a function to animate the frames\n",
    "# def animate(i):\n",
    "#     plt.cla()   # clear the previous plot\n",
    "#     data = dz_evolution[i]\n",
    "#     plt.scatter(data[:, 0], data[:, 1], c='k', s=.1)\n",
    "# #     plt.xlim(-10,10)\n",
    "# #     plt.ylim(-10,10)\n",
    "# #     plt.axis('off')\n",
    "\n",
    "# # create the animation\n",
    "# fig = plt.figure(figsize=(10, 10))\n",
    "# ani = animation.FuncAnimation(fig, animate, frames=100, interval=1)\n",
    "\n",
    "# # display the animation in the notebook\n",
    "# plt.show()"
   ]
  },
  {
   "cell_type": "code",
   "execution_count": null,
   "metadata": {},
   "outputs": [],
   "source": []
  },
  {
   "cell_type": "code",
   "execution_count": null,
   "metadata": {},
   "outputs": [],
   "source": []
  },
  {
   "cell_type": "code",
   "execution_count": null,
   "metadata": {},
   "outputs": [],
   "source": [
    "# Define the loss function (measures the discrepancy between end products of noise following the field and the targets)\n",
    "# Should be modeled with this loss since \n",
    "def nll_loss(y_pred, target):\n",
    "    log_probs = -0.5 * ((y_pred - target) ** 2).sum(dim=1)\n",
    "    return -log_probs.mean()"
   ]
  },
  {
   "cell_type": "code",
   "execution_count": 60,
   "metadata": {},
   "outputs": [
    {
     "data": {
      "text/plain": [
       "(100, 10000, 2)"
      ]
     },
     "execution_count": 60,
     "metadata": {},
     "output_type": "execute_result"
    }
   ],
   "source": [
    "dz_evolution.shape"
   ]
  },
  {
   "cell_type": "markdown",
   "metadata": {},
   "source": [
    "$$\n",
    "loss = \\sum[\\hat(y)-y]^2\n",
    "$$"
   ]
  },
  {
   "cell_type": "code",
   "execution_count": null,
   "metadata": {},
   "outputs": [],
   "source": []
  }
 ],
 "metadata": {
  "kernelspec": {
   "display_name": "env_flow",
   "language": "python",
   "name": "env_flow"
  },
  "language_info": {
   "codemirror_mode": {
    "name": "ipython",
    "version": 3
   },
   "file_extension": ".py",
   "mimetype": "text/x-python",
   "name": "python",
   "nbconvert_exporter": "python",
   "pygments_lexer": "ipython3",
   "version": "3.11.2"
  }
 },
 "nbformat": 4,
 "nbformat_minor": 2
}
