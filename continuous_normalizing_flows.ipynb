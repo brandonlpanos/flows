{
 "cells": [
  {
   "cell_type": "code",
   "execution_count": 30,
   "id": "3118a5c4",
   "metadata": {},
   "outputs": [],
   "source": [
    "import torch \n",
    "import pickle\n",
    "import numpy as np\n",
    "import matplotlib.pyplot as plt\n",
    "from torch.utils.data import Dataset, DataLoader\n",
    "from torchdiffeq import odeint_adjoint as odeint"
   ]
  },
  {
   "cell_type": "code",
   "execution_count": null,
   "id": "a198beec",
   "metadata": {},
   "outputs": [],
   "source": [
    "# Set device to GPU since flows are computationaly expensive\n",
    "device = torch.device('cuda' if torch.cuda.is_available() else 'cpu')\n",
    "print(device)\n",
    "\n",
    "# Load the targets as a few hundred thousand Mg II flare spectra and rap into a dataloader for easy sampling\n",
    "# We downsample and normalize to one\n",
    "with open('spectra.p', 'rb') as f: targets = pickle.load(f)\n",
    "indices = np.random.choice(targets.shape[0], 2560, replace=False)\n",
    "targets = targets[indices]\n",
    "targets = targets / np.max(targets, axis=1).reshape(targets.shape[0],1)\n",
    "\n",
    "class SpectralData(Dataset):\n",
    "    def __init__(self, data):\n",
    "        self.data = data\n",
    "    def __len__(self):\n",
    "        return len(self.data)\n",
    "    def __getitem__(self, indx):\n",
    "        return torch.Tensor(self.data[indx])\n",
    "targetloader = DataLoader(SpectralData(targets), batch_size=64, shuffle=True, pin_memory=True)\n",
    "\n",
    "# Define the ODE function for the time daynamic, i.e., this defines the vectore fiield / differential equation\n",
    "class ODEFunc(torch.nn.Module):\n",
    "    def __init__(self):\n",
    "        super(ODEFunc, self).__init__()\n",
    "        self.net = torch.nn.Sequential(\n",
    "            torch.nn.Linear(240, 10),\n",
    "            torch.nn.ReLU(),\n",
    "            torch.nn.Linear(10, 20),\n",
    "            torch.nn.ReLU(),\n",
    "            torch.nn.Linear(20, 240),\n",
    "        )\n",
    "    def forward(self, t, y):\n",
    "        return self.net(y)\n",
    "\n",
    "# Define the loss function (measures discrepancy between end products of noise following the field and the targets)\n",
    "def nll_loss(y_pred, target):\n",
    "    log_probs = -0.5 * ((y_pred - target) ** 2).sum(dim=1)\n",
    "    return -log_probs.mean()\n",
    "\n",
    "# Define the time grid for solving the inital value ODE, \n",
    "# Always between 0 and 1, finer means more acurate but longer traning\n",
    "t = torch.linspace(0.0, 1.0, 100).to(device)\n",
    "\n",
    "# Define the training loop\n",
    "# Train a continiouse flow model to generate spectra from noise\n",
    "def train(model, optimizer, n_epochs, batch_size):\n",
    "    for epoch in range(n_epochs):\n",
    "        epoch_loss = 0\n",
    "        for targets in targetloader:\n",
    "            optimizer.zero_grad()\n",
    "            base_vecs = torch.normal(mean=0, std=0.1, size=(batch_size, 240)).to(device)\n",
    "            y_pred = odeint(model, base_vecs, t).to(device)\n",
    "            loss = nll_loss(y_pred[-1], targets.to(device))\n",
    "            loss.backward()\n",
    "            optimizer.step()\n",
    "            epoch_loss += loss.item()\n",
    "        print(f\"Epoch {epoch+1} loss: {epoch_loss/len(targetloader)*batch_size}\")\n",
    "\n",
    "# Generate new samples: samples are new generated spectra from trained model\n",
    "# dz_evolution is the evoulution of an inital noise vector into the generated spectra\n",
    "def generate_samples(model, t, n_samples):\n",
    "    with torch.no_grad():\n",
    "        dz_evolution = odeint(model, torch.randn(n_samples, 240), t)\n",
    "        samples = dz_evolution[-1]\n",
    "    return dz_evolution, samples"
   ]
  },
  {
   "cell_type": "code",
   "execution_count": null,
   "id": "f268b01e",
   "metadata": {},
   "outputs": [],
   "source": [
    "# Initialize the model and optimizer\n",
    "ode_func = ODEFunc().to(device)\n",
    "\n",
    "optimizer = torch.optim.Adam(ode_func.parameters(), lr=1e-3)\n",
    "\n",
    "# Train the model\n",
    "train(ode_func, optimizer, n_epochs=100, batch_size=64)\n",
    "\n",
    "# Save the model\n",
    "torch.save(ode_func.state_dict(), \"my_model.pth\")"
   ]
  },
  {
   "cell_type": "code",
   "execution_count": null,
   "id": "84c91094",
   "metadata": {},
   "outputs": [],
   "source": [
    "# # Load the saved model\n",
    "# model = ODEFunc()\n",
    "# model.load_state_dict(torch.load(\"my_model.pth\"))\n",
    "# model.eval()"
   ]
  },
  {
   "cell_type": "code",
   "execution_count": null,
   "id": "0abbe81e",
   "metadata": {},
   "outputs": [],
   "source": [
    "# plot evolution of single noise vector into spectrum\n",
    "dz = generate_samples(ode_func, t, 1)"
   ]
  }
 ],
 "metadata": {
  "kernelspec": {
   "display_name": "env_flow",
   "language": "python",
   "name": "env_flow"
  },
  "language_info": {
   "codemirror_mode": {
    "name": "ipython",
    "version": 3
   },
   "file_extension": ".py",
   "mimetype": "text/x-python",
   "name": "python",
   "nbconvert_exporter": "python",
   "pygments_lexer": "ipython3",
   "version": "3.11.2"
  }
 },
 "nbformat": 4,
 "nbformat_minor": 5
}
